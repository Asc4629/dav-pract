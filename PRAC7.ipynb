{
 "cells": [
  {
   "cell_type": "code",
   "execution_count": 6,
   "id": "83108afc",
   "metadata": {},
   "outputs": [],
   "source": [
    "import pandas as pd\n",
    "\n",
    "# Creating the student DataFrame \n",
    "data = {\n",
    "'Name': ['Mudit Chauhan', 'Seema Chopra', 'Rani Gupta', 'Aditya Narayan', 'Sanjeev Sahni', 'Prakash Kumar',\n",
    " \n",
    "'Ritu Agarwal', 'Akshay Goel', 'Meeta Kulkarni', 'Preeti Ahuja', 'Sunil Das Gupta', 'Sonali Sapre',\n",
    "'Rashmi Talwar', 'Ashish Dubey', 'Kiran Sharma', 'Sameer Bansal'],\n",
    "'Birth_Month': ['December', 'January', 'March', 'October', 'February', 'December', 'September', 'August',\n",
    "'July', 'November', 'April', 'January',\n",
    "'June', 'May', 'February', 'October'],\n",
    "'Gender': ['M', 'F', 'F', 'M', 'M', 'M', 'F', 'M', 'F', 'F', 'M', 'F', 'F', 'M', 'F', 'M'],\n",
    "'Pass_Division': ['III', 'II', 'I', 'I', 'II', 'III', 'I',\n",
    "'I', 'II', 'II', 'III', 'I', 'III', 'II', 'II', 'I']\n",
    "}\n",
    "df = pd.DataFrame(data)"
   ]
  },
  {
   "cell_type": "code",
   "execution_count": 7,
   "id": "9035b4c6",
   "metadata": {},
   "outputs": [],
   "source": [
    "\n",
    "# a. Perform one hot encoding of the last two columns using get_dummies()\n",
    "df_encoded = pd.get_dummies(df, columns=['Gender', 'Pass_Division'])\n",
    "\n"
   ]
  },
  {
   "cell_type": "code",
   "execution_count": 8,
   "id": "7244d985",
   "metadata": {},
   "outputs": [],
   "source": [
    "# b. Sort the DataFrame on the \"Birth Month\" column\n",
    "month_order = ['January', 'February', 'March', 'April', 'May', 'June', 'July', 'August', 'September', 'October', 'November', 'December']\n"
   ]
  },
  {
   "cell_type": "code",
   "execution_count": 9,
   "id": "c32050ff",
   "metadata": {},
   "outputs": [],
   "source": [
    "df_encoded['Birth_Month'] = pd.Categorical(df_encoded['Birth_Month'], categories=month_order, ordered=True)\n",
    "df_encoded = df_encoded.sort_values(by='Birth_Month')\n",
    "\n"
   ]
  },
  {
   "cell_type": "code",
   "execution_count": 5,
   "id": "c23e0e6c",
   "metadata": {},
   "outputs": [
    {
     "name": "stdout",
     "output_type": "stream",
     "text": [
      "DataFrame after one-hot encoding and sorting:\n",
      "               Name Birth_Month  Gender_F  Gender_M  Pass_Division_I  \\\n",
      "0     Mudit Chauhan    December     False      True            False   \n",
      "1      Seema Chopra     January      True     False            False   \n",
      "2        Rani Gupta       March      True     False             True   \n",
      "3    Aditya Narayan     October     False      True             True   \n",
      "4     Sanjeev Sahni    February     False      True            False   \n",
      "5     Prakash Kumar    December     False      True            False   \n",
      "6      Ritu Agarwal   September      True     False             True   \n",
      "7       Akshay Goel      August     False      True             True   \n",
      "8    Meeta Kulkarni        July      True     False            False   \n",
      "9      Preeti Ahuja    November      True     False            False   \n",
      "10  Sunil Das Gupta       April     False      True            False   \n",
      "11     Sonali Sapre     January      True     False             True   \n",
      "12    Rashmi Talwar        June      True     False            False   \n",
      "13     Ashish Dubey         May     False      True            False   \n",
      "14     Kiran Sharma    February      True     False            False   \n",
      "15    Sameer Bansal     October     False      True             True   \n",
      "\n",
      "    Pass_Division_II  Pass_Division_III  \n",
      "0              False               True  \n",
      "1               True              False  \n",
      "2              False              False  \n",
      "3              False              False  \n",
      "4               True              False  \n",
      "5              False               True  \n",
      "6              False              False  \n",
      "7              False              False  \n",
      "8               True              False  \n",
      "9               True              False  \n",
      "10             False               True  \n",
      "11             False              False  \n",
      "12             False               True  \n",
      "13              True              False  \n",
      "14              True              False  \n",
      "15             False              False  \n"
     ]
    }
   ],
   "source": [
    "# Displaying the resulting DataFrame\n",
    "print(\"DataFrame after one-hot encoding and sorting:\") \n",
    "print(df_encoded)\n"
   ]
  },
  {
   "cell_type": "code",
   "execution_count": null,
   "id": "452da38d",
   "metadata": {},
   "outputs": [],
   "source": []
  }
 ],
 "metadata": {
  "kernelspec": {
   "display_name": "Python 3 (ipykernel)",
   "language": "python",
   "name": "python3"
  },
  "language_info": {
   "codemirror_mode": {
    "name": "ipython",
    "version": 3
   },
   "file_extension": ".py",
   "mimetype": "text/x-python",
   "name": "python",
   "nbconvert_exporter": "python",
   "pygments_lexer": "ipython3",
   "version": "3.11.5"
  }
 },
 "nbformat": 4,
 "nbformat_minor": 5
}
